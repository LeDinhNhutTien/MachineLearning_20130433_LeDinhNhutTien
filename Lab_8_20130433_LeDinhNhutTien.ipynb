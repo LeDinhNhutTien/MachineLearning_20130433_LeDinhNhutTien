{
  "cells": [
    {
      "cell_type": "markdown",
      "metadata": {
        "id": "view-in-github",
        "colab_type": "text"
      },
      "source": [
        "<a href=\"https://colab.research.google.com/github/LeDinhNhutTien/Machine_Learning_20130433/blob/main/Lab_8_20130433_LeDinhNhutTien.ipynb\" target=\"_parent\"><img src=\"https://colab.research.google.com/assets/colab-badge.svg\" alt=\"Open In Colab\"/></a>"
      ]
    },
    {
      "cell_type": "markdown",
      "metadata": {
        "id": "LMzehe0sy5wr"
      },
      "source": [
        "# This lab deals with **GridSearchCV** for tuning the hyper-parameters of an estimator and applying vectorization techniques to the **movie reviews dataset** for classification task. \n",
        "\n",
        "*   **Deadline: 23:59, 17/4/2023**\n",
        "\n"
      ]
    },
    {
      "cell_type": "markdown",
      "metadata": {
        "id": "H4nJmxp9zGX4"
      },
      "source": [
        "# Import libraries"
      ]
    },
    {
      "cell_type": "code",
      "execution_count": null,
      "metadata": {
        "id": "DoVWQ8AEyc-C"
      },
      "outputs": [],
      "source": [
        "# code\n",
        "from sklearn import datasets, svm\n",
        "from sklearn.model_selection import GridSearchCV\n",
        "import pandas as pd\n",
        "from sklearn.preprocessing import StandardScaler\n",
        "from sklearn.model_selection import train_test_split\n",
        "from sklearn.neighbors import KNeighborsClassifier\n",
        "from sklearn.ensemble import RandomForestClassifier\n",
        "from sklearn.datasets import load_iris\n",
        "from sklearn.svm import SVC"
      ]
    },
    {
      "cell_type": "markdown",
      "metadata": {
        "id": "x_dG9SA5OhGT"
      },
      "source": [
        "#Task 1. With **iris** dataset\n",
        "*  1.1. Apply **GridSearchCV** for **SVM** to find the best hyperparameters using the following param_grid.\n",
        "\n",
        "```\n",
        "param_grid = {'C': [0.1, 1, 10, 100, 1000],\n",
        "              'gamma': [1, 0.1, 0.01, 0.001, 0.0001],\n",
        "              'kernel': ['rbf','linear']}\n",
        "```\n",
        "\n",
        "\n"
      ]
    },
    {
      "cell_type": "code",
      "execution_count": null,
      "metadata": {
        "colab": {
          "base_uri": "https://localhost:8080/"
        },
        "id": "62jExOZ952fF",
        "outputId": "93e22301-994a-469b-9981-bef5faf8ebe6"
      },
      "outputs": [
        {
          "name": "stdout",
          "output_type": "stream",
          "text": [
            "Best Score:  0.9714285714285715\n",
            "Test Score:  1.0\n"
          ]
        }
      ],
      "source": [
        "#code\n",
        "iris = load_iris()\n",
        "X = iris.data\n",
        "y = iris.target\n",
        "X_train, X_test, y_train, y_test = train_test_split(X, y, test_size=0.3, random_state=42)\n",
        "param_grid = {'C': [0.1, 1, 10, 100, 1000],'gamma': [1, 0.1, 0.01, 0.001, 0.0001],'kernel': ['rbf', 'linear']}\n",
        "svm = SVC()\n",
        "grid_search = GridSearchCV(svm, param_grid, cv=5)\n",
        "grid_search.fit(X_train, y_train)\n",
        "best_params_SVM = grid_search.best_params_\n",
        "best_score_SVM = grid_search.best_score_\n",
        "best_svm = SVC(**best_params_SVM)\n",
        "best_svm.fit(X_train, y_train)\n",
        "test_score_SVM = best_svm.score(X_test, y_test)\n",
        "print(\"Best Score: \", best_score_SVM)\n",
        "print(\"Test Score: \", test_score_SVM)"
      ]
    },
    {
      "cell_type": "markdown",
      "metadata": {
        "id": "2g--8cng53sY"
      },
      "source": [
        "*  1.2. Apply **GridSearchCV** for **kNN** to find the best hyperparameters using the following param_grid.\n",
        "\n",
        "```\n",
        "grid_params = { 'n_neighbors' : [5,7,9,11,13,15],\n",
        "               'weights' : ['uniform','distance'],\n",
        "               'metric' : ['minkowski','euclidean','manhattan']}\n",
        "```\n",
        "where\n",
        "\n",
        "    *  **n_neighbors**: Decide the best k based on the values we have computed earlier.\n",
        "    *  **weights**: Check whether adding weights to the data points is beneficial to the model or not. 'uniform' assigns no weight, while 'distance' weighs points by the inverse of their distances meaning nearer points will have more weight than the farther points.\n",
        "    *  **metric**: The distance metric to be used will calculating the similarity.\n"
      ]
    },
    {
      "cell_type": "code",
      "execution_count": null,
      "metadata": {
        "colab": {
          "base_uri": "https://localhost:8080/"
        },
        "id": "OTBopIqJAY5n",
        "outputId": "eb82892b-8c3a-4f5a-cbfd-7745d5e097c1"
      },
      "outputs": [
        {
          "name": "stdout",
          "output_type": "stream",
          "text": [
            "Best Score:  0.9619047619047618\n",
            "Test Score:  1.0\n"
          ]
        }
      ],
      "source": [
        "\n",
        "#code\n",
        "param_grid = {'n_neighbors': [5, 7, 9, 11, 13, 15],'weights': ['uniform', 'distance'],'metric': ['minkowski', 'euclidean', 'manhattan']}\n",
        "knn = KNeighborsClassifier()\n",
        "grid_search = GridSearchCV(knn, param_grid, cv=5)\n",
        "grid_search.fit(X_train, y_train)\n",
        "best_params_knn = grid_search.best_params_\n",
        "best_score_knn = grid_search.best_score_\n",
        "best_knn = KNeighborsClassifier(**best_params_knn)\n",
        "best_knn.fit(X_train, y_train)\n",
        "test_score_knn = best_knn.score(X_test, y_test)\n",
        "print(\"Best Score: \", best_score_knn)\n",
        "print(\"Test Score: \", test_score_knn)"
      ]
    },
    {
      "cell_type": "code",
      "execution_count": null,
      "metadata": {
        "id": "fX0_kItYPism"
      },
      "outputs": [],
      "source": [
        "#code"
      ]
    },
    {
      "cell_type": "markdown",
      "metadata": {
        "id": "3lQSOcjL_TIW"
      },
      "source": [
        "*  1.3. Apply **GridSearchCV** for **Random Forest** to find the best hyperparameters using the following param_grid.\n",
        "\n",
        "```\n",
        "param_grid = {\n",
        "    'n_estimators': [25, 50, 100, 150],\n",
        "    'max_features': ['sqrt', 'log2', None],\n",
        "    'max_depth': [3, 6, 9],\n",
        "    'max_leaf_nodes': [3, 6, 9],\n",
        "}\n",
        "```"
      ]
    },
    {
      "cell_type": "code",
      "execution_count": null,
      "metadata": {
        "colab": {
          "base_uri": "https://localhost:8080/"
        },
        "id": "OlyF9WpN_01p",
        "outputId": "a23c230f-223a-44dc-c7e1-c4712c05afed"
      },
      "outputs": [
        {
          "name": "stdout",
          "output_type": "stream",
          "text": [
            "Best Score:  0.9523809523809523\n",
            "Test Score:  1.0\n"
          ]
        }
      ],
      "source": [
        "#code\n",
        "param_grid = {'n_estimators': [25, 50, 100, 150],'max_features': ['sqrt', 'log2', None],'max_depth': [3, 6, 9],'max_leaf_nodes': [3, 6, 9],}\n",
        "rf = RandomForestClassifier()\n",
        "grid_search = GridSearchCV(rf, param_grid, cv=5)\n",
        "grid_search.fit(X_train, y_train)\n",
        "best_params_rf = grid_search.best_params_\n",
        "best_score_rf = grid_search.best_score_\n",
        "best_rf = RandomForestClassifier(**best_params_rf)\n",
        "best_rf.fit(X_train, y_train)\n",
        "test_score_rf = best_rf.score(X_test, y_test)\n",
        "print(\"Best Score: \", best_score_rf)\n",
        "print(\"Test Score: \", test_score_rf)"
      ]
    },
    {
      "cell_type": "markdown",
      "metadata": {
        "id": "G3N7TD7s_3Kp"
      },
      "source": [
        "*   1.4 Compare the best obtained results from 1.1 to 1.3 (use PrettyTable to dispaly the results)"
      ]
    },
    {
      "cell_type": "code",
      "execution_count": null,
      "metadata": {
        "colab": {
          "base_uri": "https://localhost:8080/"
        },
        "id": "oQ3jCEmSMZ7_",
        "outputId": "f47ada73-a5c3-4951-e40b-dea043a7070f"
      },
      "outputs": [
        {
          "name": "stdout",
          "output_type": "stream",
          "text": [
            "+---------------+------------------------------------------------------------------------------------+--------------------+------------+\n",
            "|     Model     |                                Best Hyperparameters                                |     Best Score     | Test Score |\n",
            "+---------------+------------------------------------------------------------------------------------+--------------------+------------+\n",
            "|      SVM      |                     {'C': 100, 'gamma': 0.01, 'kernel': 'rbf'}                     | 0.9714285714285715 |    1.0     |\n",
            "|      kNN      |          {'metric': 'manhattan', 'n_neighbors': 13, 'weights': 'uniform'}          | 0.9619047619047618 |    1.0     |\n",
            "| Random Forest | {'max_depth': 3, 'max_features': 'sqrt', 'max_leaf_nodes': 6, 'n_estimators': 100} | 0.9523809523809523 |    1.0     |\n",
            "+---------------+------------------------------------------------------------------------------------+--------------------+------------+\n"
          ]
        }
      ],
      "source": [
        "from prettytable import PrettyTable\n",
        "\n",
        "table = PrettyTable()\n",
        "table.field_names = [\"Model\", \"Best Hyperparameters\", \"Best Score\", \"Test Score\"]\n",
        "table.add_row([\"SVM\", best_params_SVM, best_score_SVM, test_score_SVM])\n",
        "table.add_row([\"kNN\", best_params_knn, best_score_knn, test_score_knn])\n",
        "table.add_row([\"Random Forest\", best_params_rf, best_score_rf, test_score_rf])\n",
        "print(table)"
      ]
    },
    {
      "cell_type": "markdown",
      "metadata": {
        "id": "kNv07ARGzOUm"
      },
      "source": [
        "#Task 2. \n",
        "For breast cancer dataset (https://tinyurl.com/3vme8hr3) which could be loaded from datasets in sklearn as follows:\n",
        "\n",
        "```\n",
        "#Import scikit-learn dataset library\n",
        "from sklearn import datasets\n",
        "\n",
        "#Load dataset\n",
        "cancer = datasets.load_breast_cancer()\n",
        "```\n",
        "\n",
        "*   Apply **GridSearchCV** to different classification algorithms such as **SVM, kNN, LogisticRegression, RandomForest**.\n",
        "*   Compare the results obtained by the best hyperparameters among classification algorithms."
      ]
    },
    {
      "cell_type": "code",
      "execution_count": null,
      "metadata": {
        "id": "hOXoflSLM-X_"
      },
      "outputs": [],
      "source": [
        "# Import scikit-learn dataset library\n",
        "from sklearn import datasets\n",
        "from sklearn.preprocessing import StandardScaler\n",
        "# Load dataset\n",
        "cancer = datasets.load_breast_cancer()\n",
        "X = cancer.data\n",
        "y = cancer.target\n",
        "scaler = StandardScaler()\n",
        "X = scaler.fit_transform(X)"
      ]
    },
    {
      "cell_type": "markdown",
      "metadata": {
        "id": "pnoVB8J4vV36"
      },
      "source": [
        "*   2.1. Apply **GridSearchCV** to **SVM** \n"
      ]
    },
    {
      "cell_type": "code",
      "execution_count": null,
      "metadata": {
        "colab": {
          "base_uri": "https://localhost:8080/"
        },
        "id": "-ZTSvsJdvYqI",
        "outputId": "065929c9-b76e-45fb-ef27-c6e8811e62b3"
      },
      "outputs": [
        {
          "data": {
            "text/plain": [
              "0.9789318428815401"
            ]
          },
          "execution_count": 14,
          "metadata": {},
          "output_type": "execute_result"
        }
      ],
      "source": [
        "# code\n",
        "param_grid = {'C': [0.1, 1, 10, 100, 1000],'gamma': [1, 0.1, 0.01, 0.001, 0.0001],'kernel': ['rbf','sigmoid']}\n",
        "svm = SVC()\n",
        "grid_search = GridSearchCV(svm, param_grid, scoring='accuracy', cv=5)\n",
        "grid_search.fit(X, y)\n",
        "best_params_svc = grid_search.best_params_\n",
        "best_score_svc = grid_search.best_score_\n",
        "best_score_svc"
      ]
    },
    {
      "cell_type": "markdown",
      "metadata": {
        "id": "ol1U_T_NvcqV"
      },
      "source": [
        "*   2.2. Apply **GridSearchCV** to **kNN** "
      ]
    },
    {
      "cell_type": "code",
      "execution_count": null,
      "metadata": {
        "colab": {
          "base_uri": "https://localhost:8080/"
        },
        "id": "kt71yrAoBwYE",
        "outputId": "9094f67e-0b69-443f-c671-d852766d045f"
      },
      "outputs": [
        {
          "data": {
            "text/plain": [
              "0.968390001552554"
            ]
          },
          "execution_count": 16,
          "metadata": {},
          "output_type": "execute_result"
        }
      ],
      "source": [
        "#code\n",
        "param_grid = {'n_neighbors': [5, 7, 9, 11, 13, 15],'weights': ['uniform', 'distance'],'metric': ['minkowski', 'euclidean', 'manhattan']}\n",
        "knn = KNeighborsClassifier()\n",
        "grid_search = GridSearchCV(knn, param_grid, scoring='accuracy', cv=5)\n",
        "grid_search.fit(X, y)\n",
        "best_params_knn = grid_search.best_params_\n",
        "best_score_knn = grid_search.best_score_\n",
        "best_score_knn"
      ]
    },
    {
      "cell_type": "markdown",
      "metadata": {
        "id": "pPkAvse-BxNa"
      },
      "source": [
        "*   2.3. Apply **GridSearchCV** to **LogisticRegression** "
      ]
    },
    {
      "cell_type": "code",
      "execution_count": null,
      "metadata": {
        "colab": {
          "base_uri": "https://localhost:8080/"
        },
        "id": "nyYjpHFbB1Ci",
        "outputId": "4a2a8861-9dcc-44e2-b8be-be916f6b0474"
      },
      "outputs": [
        {
          "data": {
            "text/plain": [
              "0.982425089271852"
            ]
          },
          "execution_count": 17,
          "metadata": {},
          "output_type": "execute_result"
        }
      ],
      "source": [
        "from sklearn.linear_model import LogisticRegression\n",
        "\n",
        "#code\n",
        "param_grid = {'C': [0.001, 0.01, 0.1, 1, 10],'penalty': ['l1', 'l2'],'solver': ['liblinear', 'saga']}\n",
        "logreg = LogisticRegression(max_iter=5000, random_state=1)\n",
        "grid_search = GridSearchCV(logreg, param_grid, scoring='accuracy', cv=5)\n",
        "grid_search.fit(X, y)\n",
        "best_params_lg = grid_search.best_params_\n",
        "best_score_lg = grid_search.best_score_\n",
        "best_score_lg"
      ]
    },
    {
      "cell_type": "markdown",
      "metadata": {
        "id": "3NjSLo5jB1xY"
      },
      "source": [
        "*   2.4. Apply **GridSearchCV** to **RandomForest** "
      ]
    },
    {
      "cell_type": "code",
      "execution_count": null,
      "metadata": {
        "colab": {
          "base_uri": "https://localhost:8080/"
        },
        "id": "nktGtM0PB7XB",
        "outputId": "66d278ad-177c-4ccc-c06a-087c454fa84f"
      },
      "outputs": [
        {
          "data": {
            "text/plain": [
              "0.9523809523809523"
            ]
          },
          "execution_count": 18,
          "metadata": {},
          "output_type": "execute_result"
        }
      ],
      "source": [
        "\n",
        "#code\n",
        "param_grid = {'n_estimators': [25, 50, 100, 150],'max_features': ['sqrt', 'log2', None],'max_depth': [3, 6, 9],'max_leaf_nodes': [3, 6, 9],}\n",
        "rf = RandomForestClassifier()\n",
        "grid_search = GridSearchCV(rf, param_grid, cv=5)\n",
        "grid_search.fit(X_train, y_train)\n",
        "best_params_rf = grid_search.best_params_\n",
        "best_score_rf = grid_search.best_score_\n",
        "best_score_rf"
      ]
    },
    {
      "cell_type": "markdown",
      "metadata": {
        "id": "NZJ3BSHpB9Dx"
      },
      "source": [
        "*   2.5. Compare the best obtained results among classification algorithms (use PrettyTable to dispaly the results) "
      ]
    },
    {
      "cell_type": "code",
      "execution_count": null,
      "metadata": {
        "colab": {
          "base_uri": "https://localhost:8080/"
        },
        "id": "8LS_IYfNCFEj",
        "outputId": "7ee13bee-e204-40dd-f473-bd6fc81b0015"
      },
      "outputs": [
        {
          "name": "stdout",
          "output_type": "stream",
          "text": [
            "+--------------------+---------------------------------------------------------------------------------+--------------------+\n",
            "|       Model        |                               Best Hyperparameters                              |     Best Score     |\n",
            "+--------------------+---------------------------------------------------------------------------------+--------------------+\n",
            "|        SVM         |                    {'C': 10, 'gamma': 0.01, 'kernel': 'rbf'}                    | 0.9789318428815401 |\n",
            "|        kNN         |         {'metric': 'minkowski', 'n_neighbors': 9, 'weights': 'uniform'}         | 0.968390001552554  |\n",
            "| LogisticRegression |                {'C': 0.1, 'penalty': 'l2', 'solver': 'liblinear'}               | 0.982425089271852  |\n",
            "|   Random Forest    | {'max_depth': 3, 'max_features': None, 'max_leaf_nodes': 9, 'n_estimators': 25} | 0.9523809523809523 |\n",
            "+--------------------+---------------------------------------------------------------------------------+--------------------+\n"
          ]
        }
      ],
      "source": [
        "\n",
        "#code\n",
        "table = PrettyTable()\n",
        "table.field_names = [\"Model\", \"Best Hyperparameters\", \"Best Score\"]\n",
        "table.add_row([\"SVM\", best_params_svc, best_score_svc])\n",
        "table.add_row([\"kNN\", best_params_knn, best_score_knn])\n",
        "table.add_row([\"LogisticRegression\", best_params_lg, best_score_lg])\n",
        "table.add_row([\"Random Forest\", best_params_rf, best_score_rf])\n",
        "print(table)"
      ]
    },
    {
      "cell_type": "markdown",
      "metadata": {
        "id": "b52OPWPD2afi"
      },
      "source": [
        "#Task 3. \n",
        "The dataset consists of **2000 user-created movie reviews** archived on the IMDb(Internet Movie Database). The reviews are equally partitioned into a positive set and a negative set (1000+1000). Each review consists of a plain text file (.txt) and a class label representing the overall user opinion. \n",
        "The class attribute has only two values: **pos** (positive) or **neg** (negative).\n"
      ]
    },
    {
      "cell_type": "markdown",
      "metadata": {
        "id": "lDcxOQRmDz_h"
      },
      "source": [
        "*   3.1 Importing additional libraries"
      ]
    },
    {
      "cell_type": "code",
      "execution_count": null,
      "metadata": {
        "colab": {
          "base_uri": "https://localhost:8080/"
        },
        "id": "ZjyW06skDwvL",
        "outputId": "56f89c57-5cb9-4fe6-83bc-9a4106e77d57"
      },
      "outputs": [
        {
          "name": "stderr",
          "output_type": "stream",
          "text": [
            "[nltk_data] Downloading package movie_reviews to /root/nltk_data...\n",
            "[nltk_data]   Unzipping corpora/movie_reviews.zip.\n"
          ]
        }
      ],
      "source": [
        "import nltk, random\n",
        "nltk.download('movie_reviews')#download movie reviews dataset\n",
        "from nltk.corpus import movie_reviews\n",
        "import pandas as pd\n",
        "import matplotlib.pyplot as plt\n",
        "import numpy as np\n",
        "from sklearn.model_selection import cross_val_score\n",
        "from collections import Counter\n",
        "from sklearn.model_selection import train_test_split"
      ]
    },
    {
      "cell_type": "markdown",
      "metadata": {
        "id": "RJpsTIiyv-1h"
      },
      "source": [
        "*   3.2. Movie reviews information"
      ]
    },
    {
      "cell_type": "code",
      "execution_count": null,
      "metadata": {
        "colab": {
          "base_uri": "https://localhost:8080/"
        },
        "id": "5ZE7A0Au1Pg0",
        "outputId": "776a9989-1346-4b08-e361-42220777c7cf"
      },
      "outputs": [
        {
          "name": "stdout",
          "output_type": "stream",
          "text": [
            "2000\n",
            "['neg', 'pos']\n",
            "['plot', ':', 'two', 'teen', 'couples', 'go', 'to', ...]\n",
            "['neg/cv000_29416.txt', 'neg/cv001_19502.txt', 'neg/cv002_17424.txt', 'neg/cv003_12683.txt', 'neg/cv004_12641.txt', 'neg/cv005_29357.txt', 'neg/cv006_17022.txt', 'neg/cv007_4992.txt', 'neg/cv008_29326.txt', 'neg/cv009_29417.txt']\n"
          ]
        }
      ],
      "source": [
        "#code\n",
        "print(len(movie_reviews.fileids()))\n",
        "print(movie_reviews.categories())\n",
        "print(movie_reviews.words()[:100])\n",
        "print(movie_reviews.fileids()[:10])"
      ]
    },
    {
      "cell_type": "markdown",
      "metadata": {
        "id": "6pHmMpqMHS23"
      },
      "source": [
        "*   3.3. Create dataset from movie reviews"
      ]
    },
    {
      "cell_type": "code",
      "execution_count": null,
      "metadata": {
        "id": "45aY6woMHSH5"
      },
      "outputs": [],
      "source": [
        "documents = [(list(movie_reviews.words(fileid)), category)\n",
        "             for category in movie_reviews.categories()\n",
        "             for fileid in movie_reviews.fileids(category)]\n",
        "random.seed(123)\n",
        "random.shuffle(documents)"
      ]
    },
    {
      "cell_type": "code",
      "execution_count": null,
      "metadata": {
        "colab": {
          "base_uri": "https://localhost:8080/"
        },
        "id": "NNke0Da5HqFa",
        "outputId": "aa0b1b2e-e27a-401b-99cd-cdcd3a5af229"
      },
      "outputs": [
        {
          "name": "stdout",
          "output_type": "stream",
          "text": [
            "Number of Reviews/Documents: 2000\n",
            "Corpus Size (words): 1583820\n",
            "Sample Text of Doc 1:\n",
            "------------------------------\n",
            "most movies seem to release a third movie just so it can be called a trilogy . rocky iii seems to kind of fit in that category , but manages to be slightly unique . the rocky formula of \" rocky loses fight / rocky trains / rocky wins fight\n"
          ]
        }
      ],
      "source": [
        "print('Number of Reviews/Documents: {}'.format(len(documents)))\n",
        "print('Corpus Size (words): {}'.format(np.sum([len(d) for (d,l) in documents])))\n",
        "print('Sample Text of Doc 1:')\n",
        "print('-'*30)\n",
        "print(' '.join(documents[0][0][:50])) # first 50 words of the first document"
      ]
    },
    {
      "cell_type": "code",
      "execution_count": null,
      "metadata": {
        "colab": {
          "base_uri": "https://localhost:8080/"
        },
        "id": "vVFUEhnXHsGd",
        "outputId": "64cfba7c-beff-4827-8656-244d42600ca0"
      },
      "outputs": [
        {
          "name": "stdout",
          "output_type": "stream",
          "text": [
            "Counter({'pos': 1000, 'neg': 1000})\n"
          ]
        }
      ],
      "source": [
        "sentiment_distr = Counter([label for (words, label) in documents])\n",
        "print(sentiment_distr)"
      ]
    },
    {
      "cell_type": "markdown",
      "metadata": {
        "id": "jTXiEbMzHgVC"
      },
      "source": [
        "*   3.4. Train test split"
      ]
    },
    {
      "cell_type": "code",
      "execution_count": null,
      "metadata": {
        "id": "v_-0gZZFHvJN"
      },
      "outputs": [],
      "source": [
        "train, test = train_test_split(documents, test_size = 0.33, random_state=42)"
      ]
    },
    {
      "cell_type": "code",
      "execution_count": null,
      "metadata": {
        "colab": {
          "base_uri": "https://localhost:8080/"
        },
        "id": "UUGlm5TGHvpV",
        "outputId": "fe33abf3-ce09-460f-a06d-793ee6f9dc69"
      },
      "outputs": [
        {
          "name": "stdout",
          "output_type": "stream",
          "text": [
            "Counter({'neg': 674, 'pos': 666})\n",
            "Counter({'pos': 334, 'neg': 326})\n"
          ]
        }
      ],
      "source": [
        "## Sentiment Distrubtion for Train and Test\n",
        "print(Counter([label for (words, label) in train]))\n",
        "print(Counter([label for (words, label) in test]))"
      ]
    },
    {
      "cell_type": "code",
      "execution_count": null,
      "metadata": {
        "id": "l1ppl_0RHx1P"
      },
      "outputs": [],
      "source": [
        "X_train = [' '.join(words) for (words, label) in train]\n",
        "X_test = [' '.join(words) for (words, label) in test]\n",
        "y_train = [label for (words, label) in train]\n",
        "y_test = [label for (words, label) in test]"
      ]
    },
    {
      "cell_type": "markdown",
      "metadata": {
        "id": "7xUaXrjxH6Ee"
      },
      "source": [
        "*   3.5. Text Vectorization"
      ]
    },
    {
      "cell_type": "code",
      "execution_count": null,
      "metadata": {
        "id": "fzwM0nsIH-8l"
      },
      "outputs": [],
      "source": [
        "from sklearn.feature_extraction.text import CountVectorizer, TfidfVectorizer\n",
        "\n",
        "tfidf_vec = TfidfVectorizer(min_df = 10, token_pattern = r'[a-zA-Z]+')\n",
        "X_train_bow = tfidf_vec.fit_transform(X_train) # fit train\n",
        "X_test_bow = tfidf_vec.transform(X_test) # transform test"
      ]
    },
    {
      "cell_type": "markdown",
      "metadata": {
        "id": "BP1vB3loIF28"
      },
      "source": [
        "*   3.6. Apply **SVM** with **GridSearchCV** "
      ]
    },
    {
      "cell_type": "code",
      "execution_count": null,
      "metadata": {
        "colab": {
          "base_uri": "https://localhost:8080/"
        },
        "id": "b3FHQqh1Hlrd",
        "outputId": "0525302b-57cd-46bf-942a-c1c1f3d25cc4"
      },
      "outputs": [
        {
          "name": "stdout",
          "output_type": "stream",
          "text": [
            "Best Score:  0.85\n",
            "Test Score:  0.8121212121212121\n"
          ]
        }
      ],
      "source": [
        "#code\n",
        "param_grid = {'C': [0.1, 1, 10],'gamma': [1, 0.1, 0.01],'kernel': ['rbf', 'poly']}\n",
        "svm = SVC()\n",
        "grid_search = GridSearchCV(svm, param_grid, cv=5)\n",
        "grid_search.fit(X_train_bow, y_train)\n",
        "best_params_SVM = grid_search.best_params_\n",
        "best_score_SVM = grid_search.best_score_\n",
        "best_svm = SVC(**best_params_SVM)\n",
        "best_svm.fit(X_train_bow, y_train)\n",
        "test_score_SVM = best_svm.score(X_test_bow, y_test)\n",
        "print(\"Best Score: \", best_score_SVM)\n",
        "print(\"Test Score: \", test_score_SVM)"
      ]
    },
    {
      "cell_type": "markdown",
      "metadata": {
        "id": "N1Fy8jYBIdxi"
      },
      "source": [
        "*   3.7. Apply **RandomForest** with **GridSearchCV** "
      ]
    },
    {
      "cell_type": "code",
      "execution_count": 36,
      "metadata": {
        "colab": {
          "base_uri": "https://localhost:8080/"
        },
        "id": "Fyfw2R-gIhWl",
        "outputId": "b16b72e3-6229-489a-c449-6e6a248a878a"
      },
      "outputs": [
        {
          "output_type": "stream",
          "name": "stdout",
          "text": [
            "Best Score:  0.7985074626865671\n",
            "Test Score:  0.7848484848484848\n"
          ]
        }
      ],
      "source": [
        "\n",
        "#code\n",
        "param_grid = {'n_estimators': [25, 50, 100],'max_features': ['sqrt', 'log2', None],'max_depth': [3, 6, 9],'max_leaf_nodes': [3, 6, 9],}\n",
        "rf = RandomForestClassifier()\n",
        "grid_search = GridSearchCV(rf, param_grid, cv=5)\n",
        "grid_search.fit(X_train_bow, y_train)\n",
        "best_params_rf = grid_search.best_params_\n",
        "best_score_rf = grid_search.best_score_\n",
        "best_rf = RandomForestClassifier(**best_params_rf)\n",
        "best_rf.fit(X_train_bow, y_train)\n",
        "test_score_rf = best_rf.score(X_test_bow, y_test)\n",
        "print(\"Best Score: \", best_score_rf)\n",
        "print(\"Test Score: \", test_score_rf)"
      ]
    },
    {
      "cell_type": "markdown",
      "metadata": {
        "id": "_btsVKjIIiLT"
      },
      "source": [
        "*   3.8. Apply **kNN** with **GridSearchCV** "
      ]
    },
    {
      "cell_type": "code",
      "execution_count": 35,
      "metadata": {
        "colab": {
          "base_uri": "https://localhost:8080/"
        },
        "id": "IZmFu1ZQImhn",
        "outputId": "c44937cb-3b2a-488b-b565-b6113642bf03"
      },
      "outputs": [
        {
          "output_type": "stream",
          "name": "stdout",
          "text": [
            "Best Score:  0.628358208955224\n",
            "Test Score:  0.6166666666666667\n"
          ]
        }
      ],
      "source": [
        "\n",
        "#code\n",
        "param_grid = {'n_neighbors': [5, 7, 9, 11],'weights': ['uniform', 'distance'],'metric': ['minkowski', 'euclidean', 'manhattan']}\n",
        "knn = KNeighborsClassifier()\n",
        "grid_search = GridSearchCV(knn, param_grid, cv=5)\n",
        "grid_search.fit(X_train_bow, y_train)\n",
        "best_params_knn = grid_search.best_params_\n",
        "best_score_knn = grid_search.best_score_\n",
        "best_knn = KNeighborsClassifier(**best_params_knn)\n",
        "best_knn.fit(X_train_bow, y_train)\n",
        "test_score_knn = best_knn.score(X_test_bow, y_test)\n",
        "print(\"Best Hyperparameters: \", best_params_knn)\n",
        "print(\"Best Score: \", best_score_knn)\n",
        "print(\"Test Score: \", test_score_knn)"
      ]
    },
    {
      "cell_type": "markdown",
      "metadata": {
        "id": "0Ix_HeVGIvDu"
      },
      "source": [
        "*   3.9. Apply **LogisticRegression** with **GridSearchCV** "
      ]
    },
    {
      "cell_type": "code",
      "execution_count": 37,
      "metadata": {
        "id": "sTd3alCMIr-i",
        "colab": {
          "base_uri": "https://localhost:8080/"
        },
        "outputId": "1b12f76c-9751-4e24-e599-1ccfbaee6b20"
      },
      "outputs": [
        {
          "output_type": "stream",
          "name": "stdout",
          "text": [
            "Best Hyperparameters:  {'C': 10, 'penalty': 'l2', 'solver': 'saga'}\n",
            "Best Score:  0.8514925373134329\n",
            "Test Score:  0.8242424242424242\n"
          ]
        },
        {
          "output_type": "stream",
          "name": "stderr",
          "text": [
            "/usr/local/lib/python3.9/dist-packages/sklearn/linear_model/_sag.py:350: ConvergenceWarning: The max_iter was reached which means the coef_ did not converge\n",
            "  warnings.warn(\n"
          ]
        }
      ],
      "source": [
        "\n",
        "#code\n",
        "param_grid = {'C': [0.001, 0.01, 0.1, 1, 10],'penalty': ['l1', 'l2'],'solver': ['liblinear', 'saga']}\n",
        "logreg = LogisticRegression(max_iter=5000, random_state=1)\n",
        "grid_search = GridSearchCV(logreg, param_grid, cv=5)\n",
        "grid_search.fit(X_train_bow, y_train)\n",
        "best_params_lg = grid_search.best_params_\n",
        "best_score_lg = grid_search.best_score_\n",
        "best_lg = LogisticRegression(**best_params_lg)\n",
        "best_lg.fit(X_train_bow, y_train)\n",
        "test_score_lg = best_lg.score(X_test_bow, y_test)\n",
        "print(\"Best Hyperparameters: \", best_params_lg)\n",
        "print(\"Best Score: \", best_score_lg)\n",
        "print(\"Test Score: \", test_score_lg)"
      ]
    },
    {
      "cell_type": "markdown",
      "metadata": {
        "id": "nhYF2y6eI058"
      },
      "source": [
        "*   3.10. Compare the best obtained results among classification algorithms (use PrettyTable to dispaly the results) "
      ]
    },
    {
      "cell_type": "code",
      "execution_count": 38,
      "metadata": {
        "id": "71IjLoQfOaVN",
        "colab": {
          "base_uri": "https://localhost:8080/"
        },
        "outputId": "f5fc2000-8e9f-4b01-9851-65b1c85d5c73"
      },
      "outputs": [
        {
          "output_type": "stream",
          "name": "stdout",
          "text": [
            "+--------------------+------------------------------------------------------------------------------------+--------------------+--------------------+\n",
            "|       Model        |                                Best Hyperparameters                                |     Best Score     |     Test Score     |\n",
            "+--------------------+------------------------------------------------------------------------------------+--------------------+--------------------+\n",
            "|        SVM         |                      {'C': 10, 'gamma': 0.1, 'kernel': 'rbf'}                      |        0.85        | 0.8121212121212121 |\n",
            "|        kNN         |          {'metric': 'minkowski', 'n_neighbors': 7, 'weights': 'distance'}          | 0.628358208955224  | 0.6166666666666667 |\n",
            "|   Random Forest    | {'max_depth': 9, 'max_features': 'sqrt', 'max_leaf_nodes': 9, 'n_estimators': 100} | 0.7985074626865671 | 0.7848484848484848 |\n",
            "| LogisticRegression |                    {'C': 10, 'penalty': 'l2', 'solver': 'saga'}                    | 0.8514925373134329 | 0.8242424242424242 |\n",
            "+--------------------+------------------------------------------------------------------------------------+--------------------+--------------------+\n"
          ]
        }
      ],
      "source": [
        "\n",
        "table = PrettyTable()\n",
        "table.field_names = [\"Model\", \"Best Hyperparameters\", \"Best Score\", \"Test Score\"]\n",
        "table.add_row([\"SVM\", best_params_SVM, best_score_SVM, test_score_SVM])\n",
        "table.add_row([\"kNN\", best_params_knn, best_score_knn, test_score_knn])\n",
        "table.add_row([\"Random Forest\", best_params_rf, best_score_rf, test_score_rf])\n",
        "table.add_row([\"LogisticRegression\", best_params_lg, best_score_lg, test_score_lg])\n",
        "print(table)"
      ]
    },
    {
      "cell_type": "markdown",
      "metadata": {
        "id": "Ok7RGkea_b7n"
      },
      "source": [
        "#Finally,\n",
        "Save a copy in your Github. Remember renaming the notebook."
      ]
    }
  ],
  "metadata": {
    "colab": {
      "provenance": [],
      "include_colab_link": true
    },
    "kernelspec": {
      "display_name": "Python 3",
      "name": "python3"
    },
    "language_info": {
      "name": "python"
    }
  },
  "nbformat": 4,
  "nbformat_minor": 0
}