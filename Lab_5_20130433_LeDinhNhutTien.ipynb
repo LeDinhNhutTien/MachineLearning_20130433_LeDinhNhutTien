{
  "cells": [
    {
      "cell_type": "markdown",
      "metadata": {
        "id": "view-in-github",
        "colab_type": "text"
      },
      "source": [
        "<a href=\"https://colab.research.google.com/github/LeDinhNhutTien/Machine_Learning_20130433/blob/main/Lab_5_20130433_LeDinhNhutTien.ipynb\" target=\"_parent\"><img src=\"https://colab.research.google.com/assets/colab-badge.svg\" alt=\"Open In Colab\"/></a>"
      ]
    },
    {
      "cell_type": "markdown",
      "metadata": {
        "id": "LMzehe0sy5wr"
      },
      "source": [
        "# This lab is to deal with **SVM** to classification tasks and compare its performance with other competitive algorithms. In general, **SVM** is one of the most popular and widely used supervised machine learning algorithms.\n",
        "\n",
        "*   **Deadline: 23:59, 17/03/2023**\n",
        "\n"
      ]
    },
    {
      "cell_type": "markdown",
      "metadata": {
        "id": "H4nJmxp9zGX4"
      },
      "source": [
        "# Import libraries"
      ]
    },
    {
      "cell_type": "code",
      "execution_count": null,
      "metadata": {
        "id": "DoVWQ8AEyc-C"
      },
      "outputs": [],
      "source": [
        "from sklearn import datasets\n",
        "from sklearn import svm\n",
        "from prettytable import PrettyTable\n",
        "from sklearn.metrics import accuracy_score\n",
        "from sklearn.metrics import precision_score\n",
        "from sklearn.model_selection import train_test_split\n",
        "from sklearn.metrics import precision_score\n",
        "from sklearn.metrics import recall_score\n",
        "from sklearn.metrics import f1_score\n",
        "from sklearn.tree import DecisionTreeClassifier\n",
        "from sklearn.linear_model import LogisticRegression\n",
        "from sklearn.neighbors import KNeighborsClassifier\n",
        "from prettytable import MSWORD_FRIENDLY\n",
        "import pandas as pd\n",
        "from sklearn.preprocessing import StandardScaler"
      ]
    },
    {
      "cell_type": "markdown",
      "metadata": {
        "id": "kNv07ARGzOUm"
      },
      "source": [
        "#Task 1. \n",
        "For breast cancer dataset (https://tinyurl.com/3vme8hr3) which could be loaded from datasets in sklearn as follows:\n",
        "\n",
        "```\n",
        "#Import scikit-learn dataset library\n",
        "from sklearn import datasets\n",
        "\n",
        "#Load dataset\n",
        "cancer = datasets.load_breast_cancer()\n",
        "```\n",
        "\n",
        "*   1.1.\tApply SVM algorithm to above dataset using linear kernel.\n",
        "*   1.2.\tCompare the obtained results with other competitive algorithms (Logistic Regression, Decision Tree, kNN) based on metrics: accuracy, precision, recall, f1 measures.\n",
        "\n"
      ]
    },
    {
      "cell_type": "markdown",
      "metadata": {
        "id": "U3ehjGdo1J4h"
      },
      "source": []
    },
    {
      "cell_type": "code",
      "execution_count": null,
      "metadata": {
        "colab": {
          "base_uri": "https://localhost:8080/"
        },
        "id": "sOsg77IBzEyo",
        "outputId": "edaf26e5-ede8-47b1-b06c-f3ce235bfb35"
      },
      "outputs": [
        {
          "name": "stdout",
          "output_type": "stream",
          "text": [
            "[[ 57   6]\n",
            " [  2 106]]\n"
          ]
        }
      ],
      "source": [
        "from sklearn.metrics._plot.confusion_matrix import confusion_matrix\n",
        "import prettytable\n",
        "cancer = datasets.load_breast_cancer()\n",
        "X = cancer['data']\n",
        "y = cancer['target']\n",
        "X_train, X_test, y_train, y_test = train_test_split(X, y, test_size=0.3, random_state=1)\n",
        "\n",
        "#SVM\n",
        "SVM = svm.SVC(kernel='linear')\n",
        "SVM.fit(X_train, y_train)\n",
        "y_pred_svm = SVM.predict(X_test)\n",
        "accuracy_svm = accuracy_score(y_test, y_pred_svm)\n",
        "precision_svm = precision_score(y_test, y_pred_svm)\n",
        "recall_svm = recall_score(y_test, y_pred_svm)\n",
        "f1_svm = f1_score(y_test, y_pred_svm)\n",
        "cm = confusion_matrix(y_test, y_pred_svm)\n",
        "print(cm)"
      ]
    },
    {
      "cell_type": "code",
      "execution_count": null,
      "metadata": {
        "colab": {
          "base_uri": "https://localhost:8080/"
        },
        "id": "gMMLhaENzr2q",
        "outputId": "9c93bddf-b387-4996-af39-329666d4aedb"
      },
      "outputs": [
        {
          "name": "stdout",
          "output_type": "stream",
          "text": [
            "[[ 57   6]\n",
            " [  3 105]]\n"
          ]
        },
        {
          "name": "stderr",
          "output_type": "stream",
          "text": [
            "/usr/local/lib/python3.9/dist-packages/sklearn/linear_model/_logistic.py:458: ConvergenceWarning: lbfgs failed to converge (status=1):\n",
            "STOP: TOTAL NO. of ITERATIONS REACHED LIMIT.\n",
            "\n",
            "Increase the number of iterations (max_iter) or scale the data as shown in:\n",
            "    https://scikit-learn.org/stable/modules/preprocessing.html\n",
            "Please also refer to the documentation for alternative solver options:\n",
            "    https://scikit-learn.org/stable/modules/linear_model.html#logistic-regression\n",
            "  n_iter_i = _check_optimize_result(\n"
          ]
        }
      ],
      "source": [
        "#Logistic Regression\n",
        "classifier = LogisticRegression()\n",
        "classifier.fit(X_train,y_train)\n",
        "y_pred_lr = classifier.predict(X_test)\n",
        "accurary_lr = accuracy_score(y_test,y_pred_lr)\n",
        "precision_lr = precision_score(y_test,y_pred_lr)\n",
        "recall_lr = recall_score(y_test, y_pred_lr)\n",
        "f1_lr = f1_score(y_test, y_pred_lr)\n",
        "cm_lr = confusion_matrix(y_test, y_pred_lr)\n",
        "print(cm_lr)"
      ]
    },
    {
      "cell_type": "code",
      "execution_count": null,
      "metadata": {
        "colab": {
          "base_uri": "https://localhost:8080/"
        },
        "id": "JBIVoW4Uzsph",
        "outputId": "379f85da-cd7f-4144-c405-79cd61261441"
      },
      "outputs": [
        {
          "name": "stdout",
          "output_type": "stream",
          "text": [
            "[[ 56   7]\n",
            " [  0 108]]\n"
          ]
        }
      ],
      "source": [
        "# Decision tree algorithm\n",
        "dtc = DecisionTreeClassifier(random_state=42)\n",
        "dtc.fit(X_train,y_train)\n",
        "pred_labels_dtc = dtc.predict(X_test)\n",
        "accurary_dtc = accuracy_score(y_test,pred_labels_dtc)\n",
        "precision_dtc = precision_score(y_test,pred_labels_dtc)\n",
        "recall_dtc = recall_score(y_test, pred_labels_dtc)\n",
        "f1_dtc = f1_score(y_test, pred_labels_dtc)\n",
        "cm_dtc = confusion_matrix(y_test, pred_labels_dtc)\n",
        "print(cm_dtc)"
      ]
    },
    {
      "cell_type": "code",
      "execution_count": null,
      "metadata": {
        "colab": {
          "base_uri": "https://localhost:8080/"
        },
        "id": "nR2HsVXM1IGT",
        "outputId": "0b7dfed8-c34d-4990-f8df-25fd8fa4c42b"
      },
      "outputs": [
        {
          "name": "stdout",
          "output_type": "stream",
          "text": [
            "[[ 56   7]\n",
            " [  0 108]]\n"
          ]
        }
      ],
      "source": [
        "#kNN\n",
        "knn = KNeighborsClassifier(n_neighbors=5)\n",
        "knn.fit(X_train,y_train)\n",
        "y_pred_knn = dtc.predict(X_test)\n",
        "accurary_knn = accuracy_score(y_test,y_pred_knn)\n",
        "precision_knn = precision_score(y_test,y_pred_knn)\n",
        "recall_knn = recall_score(y_test, y_pred_knn)\n",
        "f1_knn = f1_score(y_test, y_pred_knn)\n",
        "cm_knn = confusion_matrix(y_test, y_pred_knn)\n",
        "print(cm_knn)"
      ]
    },
    {
      "cell_type": "code",
      "execution_count": null,
      "metadata": {
        "colab": {
          "base_uri": "https://localhost:8080/"
        },
        "id": "_jRwAXoM2N87",
        "outputId": "7fe06b8f-39fc-40fc-ffe6-1fe01a8d186c"
      },
      "outputs": [
        {
          "name": "stdout",
          "output_type": "stream",
          "text": [
            "+---------------------+----------------+-----------------+--------------+----------+\n",
            "|      algorithm      | accurary_score | precision_score | recall_score | f1_score |\n",
            "+---------------------+----------------+-----------------+--------------+----------+\n",
            "|         SVM         |      0.95      |       0.95      |     0.98     |   0.96   |\n",
            "| Logistic Regression |      0.95      |       0.95      |     0.97     |   0.96   |\n",
            "|    Decision Tree    |      0.96      |       0.94      |     1.0      |   0.97   |\n",
            "|         KNN         |      0.96      |       0.94      |     1.0      |   0.97   |\n",
            "+---------------------+----------------+-----------------+--------------+----------+\n"
          ]
        }
      ],
      "source": [
        "t = PrettyTable(['algorithm', 'accurary_score','precision_score','recall_score','f1_score'])\n",
        "accurary_lr = accuracy_score(y_test,y_pred_lr)\n",
        "precision_lr = precision_score(y_test,y_pred_lr)\n",
        "recall_lr = recall_score(y_test, y_pred_lr)\n",
        "f1_lr = f1_score(y_test, y_pred_lr)\n",
        "\n",
        "t.add_row(['SVM',round(accuracy_svm,2),round(precision_svm,2),round(recall_svm,2),round(f1_svm,2)])\n",
        "t.add_row(['Logistic Regression',round(accurary_lr,2),round(precision_lr,2),round(recall_lr,2),round(f1_lr,2)])\n",
        "t.add_row(['Decision Tree',round(accurary_dtc,2),round(precision_dtc,2),round(recall_dtc,2),round(f1_dtc,2)])\n",
        "t.add_row(['KNN',round(accurary_knn,2),round(precision_knn,2),round(recall_knn,2),round(f1_knn,2)])\n",
        "\n",
        "print(t)\n"
      ]
    },
    {
      "cell_type": "markdown",
      "metadata": {
        "id": "S43IoUT-0OQq"
      },
      "source": [
        "#Task 2. \n",
        "\n",
        "*   1.1.\tPerform SVM algorithm to **Iris dataset** using **linear kernel**.\n",
        "*   1.2.\tCompare the obtained results in 1.1 with SVM using other kernels (**Polynomial Kernel, Gaussian Kernel, Sigmoid Kernel, Radial Basis Function Kernel**). Some metrics could be used: accuracy, precision, recall, f1 measures\n",
        "\n",
        "\n",
        "\n"
      ]
    },
    {
      "cell_type": "code",
      "execution_count": null,
      "metadata": {
        "id": "S3MHTZ6iAzgB"
      },
      "outputs": [],
      "source": []
    },
    {
      "cell_type": "code",
      "execution_count": null,
      "metadata": {
        "id": "_xhPpF5b033h"
      },
      "outputs": [],
      "source": [
        "data = datasets.load_iris()\n",
        "X = data['data']\n",
        "y = data['target']\n",
        "X_train, X_test, y_train, y_test = train_test_split(X, y, test_size=0.3, random_state=1)\n",
        "\n"
      ]
    },
    {
      "cell_type": "code",
      "execution_count": null,
      "metadata": {
        "colab": {
          "base_uri": "https://localhost:8080/"
        },
        "id": "SuyBeQ9H7vUy",
        "outputId": "bb20d093-6399-4317-e9ad-1fe7e3547e74"
      },
      "outputs": [
        {
          "name": "stdout",
          "output_type": "stream",
          "text": [
            "[[14  0  0]\n",
            " [ 0 17  1]\n",
            " [ 0  0 13]]\n"
          ]
        }
      ],
      "source": [
        "poly = svm.SVC(kernel = 'poly')\n",
        "poly.fit(X_train,y_train)\n",
        "y_pred_poly = poly.predict(X_test)\n",
        "accurary_poly = accuracy_score(y_test,y_pred_poly)\n",
        "cm_poly = confusion_matrix(y_test, y_pred_poly)\n",
        "print(cm_poly)"
      ]
    },
    {
      "cell_type": "markdown",
      "metadata": {
        "id": "b52OPWPD2afi"
      },
      "source": [
        "#Task 3. \n",
        "Compare the performance of selected classification algorithms (Decision Tree, kNN, Logistic Regression) and SVM (using different kernels) with mnist dataset based on accuracy, precision, recall, f1 measures.\n"
      ]
    },
    {
      "cell_type": "code",
      "execution_count": null,
      "metadata": {
        "colab": {
          "base_uri": "https://localhost:8080/"
        },
        "id": "qzs2FYjzkSNg",
        "outputId": "113fe143-eeb7-4db2-e9b5-7c031054dfb8"
      },
      "outputs": [
        {
          "name": "stdout",
          "output_type": "stream",
          "text": [
            "                   accuracy  precision    recall        f1\n",
            "Logistic           0.970370   0.969846  0.970960  0.969921\n",
            "Knn                0.977778   0.978292  0.978986  0.978407\n",
            "Tree               0.479630   0.732103  0.479311  0.402085\n",
            "Liner Kernel       0.977778   0.977356  0.978005  0.977647\n",
            "Polynomial Kernel  0.938889   0.952836  0.941645  0.940543\n",
            "Sigmoid Kernel     0.940741   0.937046  0.937407  0.936626\n",
            "Radial Basis       0.981481   0.980847  0.981195  0.980790\n"
          ]
        }
      ],
      "source": [
        "mnist = datasets.load_digits()\n",
        "X = mnist.data\n",
        "y = mnist.target\n",
        "#Chuan hoa du lieu\n",
        "scaler = StandardScaler()\n",
        "X_scaled = scaler.fit_transform(X)\n",
        "# Split 7-3\n",
        "X_train, X_test, y_train, y_test = train_test_split(X_scaled, y, test_size=0.3, random_state=42)\n",
        "#Decision Tree\n",
        "tree = DecisionTreeClassifier(criterion=\"gini\", random_state=42, max_depth=3, min_samples_leaf=5)\n",
        "tree.fit(X_train, y_train)\n",
        "y_pred_tree = tree.predict(X_test)\n",
        "#Knn\n",
        "knn = KNeighborsClassifier(n_neighbors=5)\n",
        "knn.fit(X_train, y_train)\n",
        "y_pred_knn = knn.predict(X_test)\n",
        "#Logistic Regression\n",
        "logistic = LogisticRegression(random_state=1)\n",
        "logistic.fit(X_train, y_train)\n",
        "y_pred_logistic = logistic.predict(X_test)\n",
        "#SVM\n",
        "#Linear Kernel\n",
        "clf = svm.SVC(kernel='linear')\n",
        "clf.fit(X_train, y_train)\n",
        "y_pred_linear = clf.predict(X_test)\n",
        "#Polynomial Kernel\n",
        "clf = svm.SVC(kernel='poly')\n",
        "clf.fit(X_train, y_train)\n",
        "y_pred_polynomial = clf.predict(X_test)\n",
        "#Sigmoid Kernel\n",
        "clf = svm.SVC(kernel='sigmoid')\n",
        "clf.fit(X_train, y_train)\n",
        "y_pred_sigmoid = clf.predict(X_test)\n",
        "#Radial Basis\n",
        "clf = svm.SVC(kernel='rbf')\n",
        "clf.fit(X_train, y_train)\n",
        "y_pred_radial = clf.predict(X_test)\n",
        "#create table\n",
        "table = {\n",
        "    \"Logistic\":{\n",
        "        \"accuracy\": accuracy_score(y_test, y_pred_logistic),\n",
        "        \"precision\": precision_score(y_test, y_pred_logistic, average='macro', zero_division=1),\n",
        "        \"recall\": recall_score(y_test, y_pred_logistic, average='macro'),\n",
        "        \"f1\": f1_score(y_test, y_pred_logistic, average='macro')\n",
        "    },\n",
        "    \"Knn\":{\n",
        "        \"accuracy\": accuracy_score(y_test, y_pred_knn),\n",
        "        \"precision\": precision_score(y_test, y_pred_knn, average='macro',zero_division=1),\n",
        "        \"recall\": recall_score(y_test, y_pred_knn, average='macro'),\n",
        "        \"f1\": f1_score(y_test, y_pred_knn, average='macro')\n",
        "    },\n",
        "    \"Tree\":{\n",
        "        \"accuracy\": accuracy_score(y_test, y_pred_tree),\n",
        "        \"precision\": precision_score(y_test, y_pred_tree, average='macro', zero_division=1),\n",
        "        \"recall\": recall_score(y_test, y_pred_tree, average='macro'),\n",
        "        \"f1\": f1_score(y_test, y_pred_tree, average='macro')\n",
        "    },\n",
        "    \"Liner Kernel\":{\n",
        "        \"accuracy\": accuracy_score(y_test, y_pred_linear),\n",
        "        \"precision\": precision_score(y_test, y_pred_linear, average='macro', zero_division=1),\n",
        "        \"recall\": recall_score(y_test, y_pred_linear, average='macro'),\n",
        "        \"f1\": f1_score(y_test, y_pred_linear, average='macro')\n",
        "    },\n",
        "    \"Polynomial Kernel\":{\n",
        "        \"accuracy\": accuracy_score(y_test, y_pred_polynomial),\n",
        "        \"precision\": precision_score(y_test, y_pred_polynomial, average='macro', zero_division=1),\n",
        "        \"recall\": recall_score(y_test, y_pred_polynomial, average='macro'),\n",
        "        \"f1\": f1_score(y_test, y_pred_polynomial, average='macro')\n",
        "    },\n",
        "    \"Sigmoid Kernel\":{\n",
        "        \"accuracy\": accuracy_score(y_test, y_pred_sigmoid),\n",
        "        \"precision\": precision_score(y_test, y_pred_sigmoid, average='macro', zero_division=1),\n",
        "        \"recall\": recall_score(y_test, y_pred_sigmoid, average='macro'),\n",
        "        \"f1\": f1_score(y_test, y_pred_sigmoid, average='macro')\n",
        "    },\n",
        "    \"Radial Basis\":{\n",
        "        \"accuracy\": accuracy_score(y_test, y_pred_radial),\n",
        "        \"precision\": precision_score(y_test, y_pred_radial, average='macro', zero_division=1),\n",
        "        \"recall\": recall_score(y_test, y_pred_radial, average='macro'),\n",
        "        \"f1\": f1_score(y_test, y_pred_radial, average='macro')\n",
        "    },\n",
        "}\n",
        "#print\n",
        "df_metrics = pd.DataFrame.from_dict(table, orient='index')\n",
        "print(df_metrics)"
      ]
    },
    {
      "cell_type": "markdown",
      "metadata": {
        "id": "Z5pp7_h-aP2u"
      },
      "source": [
        "#Task 4. \n",
        "Compare the performance of selected classification algorithms (Decision Tree, kNN, Logistic Regression) and SVM (using different kernels) with **credit card dataset** based on accuracy, precision, recall, f1 measures.\n",
        "\n",
        "*   Give some comments on the obtained results\n",
        "*   Identify issues with dataset, and propose the solutions to these issues\n",
        "\n"
      ]
    },
    {
      "cell_type": "code",
      "execution_count": null,
      "metadata": {
        "colab": {
          "base_uri": "https://localhost:8080/"
        },
        "id": "Rw_-8FIf2KxW",
        "outputId": "30512cf7-16e2-4b7f-95e2-ebe321dde0d9"
      },
      "outputs": [
        {
          "name": "stdout",
          "output_type": "stream",
          "text": [
            "Mounted at /content/gdrive\n",
            "/content/gdrive/MyDrive/Machine_Learning\n"
          ]
        }
      ],
      "source": [
        "#import library\n",
        "from google.colab import drive\n",
        "drive.mount('/content/gdrive')\n",
        "%cd '/content/gdrive/MyDrive/Machine_Learning'"
      ]
    },
    {
      "cell_type": "code",
      "execution_count": null,
      "metadata": {
        "colab": {
          "background_save": true
        },
        "id": "Wjlp3B_BmVn0",
        "outputId": "3027c388-1316-4002-d2cf-3a988ba791af"
      },
      "outputs": [
        {
          "name": "stdout",
          "output_type": "stream",
          "text": [
            "                   accuracy  precision    recall        f1\n",
            "Logistic           0.999274   0.938483  0.816106  0.867340\n",
            "Knn                0.999415   0.928973  0.878577  0.902197\n",
            "Tree               0.999368   0.929602  0.860200  0.891842\n",
            "Liner Kernel       0.999356   0.891468  0.911583  0.901273\n",
            "Polynomial Kernel  0.999485   0.948088  0.882283  0.912569\n",
            "Sigmoid Kernel     0.998502   0.764544  0.760660  0.762588\n",
            "Radial Basis       0.999368   0.963266  0.827165  0.883462\n"
          ]
        }
      ],
      "source": [
        "# code\n",
        "dataSet = pd.read_csv(\"creditcard.csv\")\n",
        "X = dataSet.drop('Class', axis=1)\n",
        "y = dataSet['Class']\n",
        "#Chuan hoa du lieu\n",
        "scaler = StandardScaler()\n",
        "X_scaled = scaler.fit_transform(X)\n",
        "# Split 7-3\n",
        "X_train, X_test, y_train, y_test = train_test_split(X_scaled, y, test_size=0.3, random_state=42)\n",
        "#Decision Tree\n",
        "tree = DecisionTreeClassifier(criterion=\"gini\", random_state=42, max_depth=3, min_samples_leaf=5)\n",
        "tree.fit(X_train, y_train)\n",
        "y_pred_tree = tree.predict(X_test)\n",
        "#Knn\n",
        "knn = KNeighborsClassifier(n_neighbors=5)\n",
        "knn.fit(X_train, y_train)\n",
        "y_pred_knn = knn.predict(X_test)\n",
        "#Logistic Regression\n",
        "logistic = LogisticRegression(max_iter=1000)\n",
        "logistic.fit(X_train, y_train)\n",
        "y_pred_logistic = logistic.predict(X_test)\n",
        "\n",
        "#SVM\n",
        "#Linear Kernel\n",
        "clf = svm.SVC(kernel='linear')\n",
        "clf.fit(X_train, y_train)\n",
        "y_pred_linear = clf.predict(X_test)\n",
        "#Polynomial Kernel\n",
        "clf = svm.SVC(kernel='poly')\n",
        "clf.fit(X_train, y_train)\n",
        "y_pred_polynomial = clf.predict(X_test)\n",
        "#Sigmoid Kernel\n",
        "clf = svm.SVC(kernel='sigmoid')\n",
        "clf.fit(X_train, y_train)\n",
        "y_pred_sigmoid = clf.predict(X_test)\n",
        "#Radial Basis\n",
        "clf = svm.SVC(kernel='rbf')\n",
        "clf.fit(X_train, y_train)\n",
        "y_pred_radial = clf.predict(X_test)\n",
        "\n",
        "#create table\n",
        "table = {\n",
        "    \"Logistic\":{\n",
        "        \"accuracy\": accuracy_score(y_test, y_pred_logistic),\n",
        "        \"precision\": precision_score(y_test, y_pred_logistic, average='macro', zero_division=1),\n",
        "        \"recall\": recall_score(y_test, y_pred_logistic, average='macro', zero_division=1),\n",
        "        \"f1\": f1_score(y_test, y_pred_logistic, average='macro')\n",
        "    },\n",
        "    \"Knn\":{\n",
        "        \"accuracy\": accuracy_score(y_test, y_pred_knn),\n",
        "        \"precision\": precision_score(y_test, y_pred_knn, average='macro',zero_division=1),\n",
        "        \"recall\": recall_score(y_test, y_pred_knn, average='macro', zero_division=1),\n",
        "        \"f1\": f1_score(y_test, y_pred_knn, average='macro')\n",
        "    },\n",
        "    \"Tree\":{\n",
        "        \"accuracy\": accuracy_score(y_test, y_pred_tree),\n",
        "        \"precision\": precision_score(y_test, y_pred_tree, average='macro', zero_division=1),\n",
        "        \"recall\": recall_score(y_test, y_pred_tree, average='macro', zero_division=1),\n",
        "        \"f1\": f1_score(y_test, y_pred_tree, average='macro')\n",
        "    },\n",
        "    \"Liner Kernel\":{\n",
        "        \"accuracy\": accuracy_score(y_test, y_pred_linear),\n",
        "        \"precision\": precision_score(y_test, y_pred_linear, average='macro', zero_division=1),\n",
        "        \"recall\": recall_score(y_test, y_pred_linear, average='macro', zero_division=1),\n",
        "        \"f1\": f1_score(y_test, y_pred_linear, average='macro')\n",
        "    },\n",
        "    \"Polynomial Kernel\":{\n",
        "        \"accuracy\": accuracy_score(y_test, y_pred_polynomial),\n",
        "        \"precision\": precision_score(y_test, y_pred_polynomial, average='macro', zero_division=1),\n",
        "        \"recall\": recall_score(y_test, y_pred_polynomial, average='macro', zero_division=1),\n",
        "        \"f1\": f1_score(y_test, y_pred_polynomial, average='macro')\n",
        "    },\n",
        "    \"Sigmoid Kernel\":{\n",
        "        \"accuracy\": accuracy_score(y_test, y_pred_sigmoid),\n",
        "        \"precision\": precision_score(y_test, y_pred_sigmoid, average='macro', zero_division=1),\n",
        "        \"recall\": recall_score(y_test, y_pred_sigmoid, average='macro', zero_division=1),\n",
        "        \"f1\": f1_score(y_test, y_pred_sigmoid, average='macro')\n",
        "    },\n",
        "    \"Radial Basis\":{\n",
        "        \"accuracy\": accuracy_score(y_test, y_pred_radial),\n",
        "        \"precision\": precision_score(y_test, y_pred_radial, average='macro', zero_division=1),\n",
        "        \"recall\": recall_score(y_test, y_pred_radial, average='macro', zero_division=1),\n",
        "        \"f1\": f1_score(y_test, y_pred_radial, average='macro')\n",
        "    },\n",
        "}\n",
        "#print\n",
        "df_metrics = pd.DataFrame.from_dict(table, orient='index')\n",
        "print(df_metrics)"
      ]
    },
    {
      "cell_type": "markdown",
      "metadata": {
        "id": "Ok7RGkea_b7n"
      },
      "source": [
        "#Finally,\n",
        "Save a copy in your Github. Remember renaming the notebook."
      ]
    }
  ],
  "metadata": {
    "colab": {
      "provenance": [],
      "include_colab_link": true
    },
    "kernelspec": {
      "display_name": "Python 3",
      "name": "python3"
    },
    "language_info": {
      "name": "python"
    }
  },
  "nbformat": 4,
  "nbformat_minor": 0
}